{
 "cells": [
  {
   "cell_type": "code",
   "execution_count": null,
   "metadata": {},
   "outputs": [],
   "source": [
    "%load_ext autoreload\n",
    "%autoreload 2"
   ]
  },
  {
   "cell_type": "code",
   "execution_count": null,
   "metadata": {},
   "outputs": [],
   "source": [
    "import tensorflow as tf\n",
    "from tensorflow.keras import Model\n",
    "import matplotlib.pyplot as plt\n",
    "from tensorflow.keras.callbacks import EarlyStopping # type: ignore\n",
    "\n",
    "from data_pipeline.preprocessing.data_processing import create_tf_dataset, load_and_preprocess_data\n",
    "from training.learning_rate import PolyDecay\n",
    "from deep_lab.model import DeepLabV3Plus\n"
   ]
  },
  {
   "cell_type": "code",
   "execution_count": null,
   "metadata": {},
   "outputs": [],
   "source": [
    "#####################\n",
    "##  PREPROCESSING  ##\n",
    "#####################"
   ]
  },
  {
   "cell_type": "code",
   "execution_count": null,
   "metadata": {},
   "outputs": [],
   "source": [
    "\n",
    "# Preprocess data paths\n",
    "image_dir = r'D:\\01_Arnaud\\Etudes\\04_CNAM\\RCP209\\Projet\\DeepLab\\data\\VOCdevkit\\VOC2012\\JPEGImages'\n",
    "mask_dir = r'D:\\01_Arnaud\\Etudes\\04_CNAM\\RCP209\\Projet\\DeepLab\\data\\VOCdevkit\\VOC2012\\SegmentationClass'\n",
    "\n",
    "train_images, val_images, train_masks, val_masks = load_and_preprocess_data(image_dir, mask_dir)\n",
    "\n",
    "# Create TensorFlow datasets\n",
    "train_dataset = create_tf_dataset(train_images, train_masks)\n",
    "val_dataset = create_tf_dataset(val_images, val_masks)"
   ]
  },
  {
   "cell_type": "code",
   "execution_count": null,
   "metadata": {},
   "outputs": [],
   "source": [
    "############################\n",
    "## FINE-TUNING & TRAINING ##\n",
    "############################"
   ]
  },
  {
   "cell_type": "code",
   "execution_count": null,
   "metadata": {},
   "outputs": [],
   "source": [
    "from tensorflow.keras.metrics import MeanIoU\n",
    "\n",
    "\n",
    "# input_shape = (224, 224, 3)\n",
    "# input = tf.keras.Input(shape=input_shape)\n",
    "# model = Model(inputs=input, outputs=model.call(input))\n",
    "# for layer in model.layers:\n",
    "#     if not isinstance(layer, tf.keras.layers.BatchNormalization):\n",
    "#         layer.trainable = False\n",
    "\n",
    "# for layer in model.aspp.layers + model.decoder.layers:\n",
    "#     layer.trainable = True\n",
    "\n",
    "# model.compile(optimizer=optimizer, loss='sparse_categorical_crossentropy', metrics=['accuracy', MeanIoU(num_classes=NUM_CLASSES)])\n",
    "\n",
    "# history = model.fit(train_dataset, validation_data=val_dataset, epochs=epochs)\n",
    "\n",
    "for layer in model.layers:\n",
    "    layer.trainable = True\n",
    "\n",
    "for layers in model.backbone.resnet_model.layers:\n",
    "    layer.trainable = False\n"
   ]
  },
  {
   "cell_type": "code",
   "execution_count": null,
   "metadata": {},
   "outputs": [],
   "source": [
    "from data_pipeline.preprocessing.data_processing import create_tf_dataset, load_and_preprocess_data\n",
    "from deep_lab.model import DeepLabV3Plus\n",
    "# from src.data.data_loader import load_data\n",
    "from training.trainer import Trainer\n",
    "\n",
    "# Instantiate model\n",
    "model = DeepLabV3Plus()\n",
    "\n",
    "# Training configuration\n",
    "config = {\n",
    "    'learning_rate': 0.001,\n",
    "    'epochs': 5,\n",
    "    'checkpoint_path': 'results/checkpoints/model.keras',\n",
    "    'model_save_path': 'results/models/model.h5',\n",
    "    'num_classes': 21\n",
    "}\n",
    "\n",
    "# Create the model\n",
    "model = DeepLabV3Plus()\n",
    "trainer = Trainer(model=model, train_dataset=train_dataset, val_dataset=val_dataset, config=config)\n",
    "history = trainer.train()\n",
    "trainer.evaluate()\n",
    "trainer.save_model()"
   ]
  },
  {
   "cell_type": "code",
   "execution_count": null,
   "metadata": {},
   "outputs": [],
   "source": [
    "# Optional: save the model\n",
    "model.save('results/my_model.h5')"
   ]
  },
  {
   "cell_type": "code",
   "execution_count": null,
   "metadata": {},
   "outputs": [],
   "source": [
    "##################\n",
    "##  EVALUATION  ##\n",
    "##################"
   ]
  },
  {
   "cell_type": "code",
   "execution_count": null,
   "metadata": {},
   "outputs": [],
   "source": [
    "\n",
    "model.evaluate(val_dataset)"
   ]
  },
  {
   "cell_type": "code",
   "execution_count": null,
   "metadata": {},
   "outputs": [],
   "source": [
    "########################\n",
    "## INFERENCE EXEMPLE  ## \n",
    "########################"
   ]
  },
  {
   "cell_type": "code",
   "execution_count": null,
   "metadata": {},
   "outputs": [],
   "source": [
    "# Display result for one image\n",
    "val_images, val_masks = next(iter(val_dataset))\n",
    "image = val_images[0]\n",
    "prediction = model.predict(tf.expand_dims(image, axis=0))\n",
    "predicted_mask = tf.argmax(prediction, axis=-1)\n",
    "predicted_mask = tf.squeeze(predicted_mask)\n",
    "\n",
    "plt.figure(figsize=(15, 5))\n",
    "\n",
    "plt.subplot(1, 3, 1)\n",
    "plt.title(\"Input Image\")\n",
    "plt.imshow(image)\n",
    "\n",
    "plt.subplot(1, 3, 2)\n",
    "plt.title(\"True Mask\")\n",
    "plt.imshow(tf.squeeze(val_masks[0]), cmap='gray')\n",
    "\n",
    "plt.subplot(1, 3, 3)\n",
    "plt.title(\"Predicted Mask\")\n",
    "plt.imshow(predicted_mask, cmap='gray')\n",
    "\n",
    "plt.show()"
   ]
  },
  {
   "cell_type": "code",
   "execution_count": null,
   "metadata": {},
   "outputs": [],
   "source": [
    "## Evaluate on the offcial testing set"
   ]
  }
 ],
 "metadata": {
  "kernelspec": {
   "display_name": ".venv",
   "language": "python",
   "name": "python3"
  },
  "language_info": {
   "codemirror_mode": {
    "name": "ipython",
    "version": 3
   },
   "file_extension": ".py",
   "mimetype": "text/x-python",
   "name": "python",
   "nbconvert_exporter": "python",
   "pygments_lexer": "ipython3",
   "version": "3.12.4"
  }
 },
 "nbformat": 4,
 "nbformat_minor": 2
}
